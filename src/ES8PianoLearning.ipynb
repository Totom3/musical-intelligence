{
 "cells": [
  {
   "cell_type": "code",
   "execution_count": 1,
   "metadata": {},
   "outputs": [],
   "source": [
    "%run utils.ipynb\n",
    "%run data_encoder.ipynb"
   ]
  },
  {
   "cell_type": "code",
   "execution_count": 2,
   "metadata": {},
   "outputs": [],
   "source": [
    "%matplotlib notebook"
   ]
  },
  {
   "cell_type": "code",
   "execution_count": 3,
   "metadata": {},
   "outputs": [],
   "source": [
    "import math\n",
    "import numpy as np\n",
    "from sklearn.naive_bayes import GaussianNB\n",
    "from sklearn.multiclass import OneVsRestClassifier\n",
    "from sklearn.externals import joblib"
   ]
  },
  {
   "cell_type": "code",
   "execution_count": 4,
   "metadata": {},
   "outputs": [
    {
     "name": "stdout",
     "output_type": "stream",
     "text": [
      "Extracting data from ES8-Single_Notes...\n",
      "Extracted 2386 + 597 data points from ES8-Single_Notes!\n"
     ]
    }
   ],
   "source": [
    "es8_piano_dataset, encode_note, decode_note = encode_es8_piano_data()"
   ]
  },
  {
   "cell_type": "code",
   "execution_count": 5,
   "metadata": {},
   "outputs": [
    {
     "data": {
      "text/plain": [
       "GaussianNB(priors=None, var_smoothing=1e-09)"
      ]
     },
     "execution_count": 5,
     "metadata": {},
     "output_type": "execute_result"
    }
   ],
   "source": [
    "classifier = GaussianNB()\n",
    "classifier.fit(es8_piano_dataset.X_train, es8_piano_dataset.y_train)"
   ]
  },
  {
   "cell_type": "code",
   "execution_count": 6,
   "metadata": {
    "scrolled": true
   },
   "outputs": [
    {
     "name": "stdout",
     "output_type": "stream",
     "text": [
      "Number of mislabeled test points out of a total 597 points : 0\n",
      "Number of mislabeled train points out of a total 2386 points : 0\n",
      "\n",
      " Train Discrepancies:\n"
     ]
    }
   ],
   "source": [
    "y_pred_test = classifier.predict(es8_piano_dataset.X_test)\n",
    "test_discrepancies = (es8_piano_dataset.y_test != y_pred_test)\n",
    "\n",
    "y_pred_train = classifier.predict(es8_piano_dataset.X_train)\n",
    "train_discrepancies = (es8_piano_dataset.y_train != y_pred_train)\n",
    "\n",
    "print(\"Number of mislabeled test points out of a total {} points : {}\"\n",
    "       .format(len(es8_piano_dataset.X_test), test_discrepancies.sum()))\n",
    "print(\"Number of mislabeled train points out of a total {} points : {}\"\n",
    "       .format(len(es8_piano_dataset.X_train), train_discrepancies.sum()))\n",
    "\n",
    "print('\\n Train Discrepancies:')\n",
    "for idx, prediction in enumerate(y_pred_train):\n",
    "    if not train_discrepancies[idx]:\n",
    "        continue\n",
    "    \n",
    "    print(' [{}]: Predicted {} but expected {}'.format(idx, decode_note(prediction), decode_note(es8_piano_dataset.y_train[idx])))"
   ]
  },
  {
   "cell_type": "code",
   "execution_count": 7,
   "metadata": {},
   "outputs": [],
   "source": [
    "if False:\n",
    "    idx = 0\n",
    "    sampling_rate, wav_data = 44100, es8_piano_dataset.train_data[idx].wav_data\n",
    "    print(max(wav_data))\n",
    "\n",
    "    wavfile.write('test.wav', sampling_rate, wav_data)\n",
    "    play_wav_file('test.wav')\n",
    "    \n",
    "    %run view_frequencies.ipynb\n",
    "    _ = plot_data_frequency_range(wav_data, sampling_rate, sigma=0)\n",
    "    \n",
    "    import matplotlib.pyplot as plt\n",
    "\n",
    "    bad_data_point = es8_piano_dataset.train_data[idx]\n",
    "    \n",
    "    frequencies = bad_data_point.frequencies()\n",
    "    amplitudes = bad_data_point.data\n",
    "\n",
    "    frequencies = [freq for idx, freq in enumerate(frequencies) if amplitudes[idx] > 0]\n",
    "    amplitudes = [ampl for ampl in amplitudes if ampl > 0]\n",
    "    \n",
    "    plt.plot(frequencies, amplitudes, linestyle=\"--\", marker=\".\")\n",
    "    plt.show()\n",
    "    \n",
    "    print(list(zip(frequencies, amplitudes)))"
   ]
  },
  {
   "cell_type": "code",
   "execution_count": 8,
   "metadata": {},
   "outputs": [
    {
     "data": {
      "text/plain": [
       "['../models/es8-singlenotes.model']"
      ]
     },
     "execution_count": 8,
     "metadata": {},
     "output_type": "execute_result"
    }
   ],
   "source": [
    "joblib.dump(classifier, '../models/es8-singlenotes.model')"
   ]
  },
  {
   "cell_type": "code",
   "execution_count": null,
   "metadata": {},
   "outputs": [],
   "source": []
  }
 ],
 "metadata": {
  "kernelspec": {
   "display_name": "Python 3",
   "language": "python",
   "name": "python3"
  },
  "language_info": {
   "codemirror_mode": {
    "name": "ipython",
    "version": 3
   },
   "file_extension": ".py",
   "mimetype": "text/x-python",
   "name": "python",
   "nbconvert_exporter": "python",
   "pygments_lexer": "ipython3",
   "version": "3.7.1"
  }
 },
 "nbformat": 4,
 "nbformat_minor": 2
}
