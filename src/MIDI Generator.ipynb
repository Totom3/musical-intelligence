{
 "cells": [
  {
   "cell_type": "code",
   "execution_count": 42,
   "metadata": {},
   "outputs": [],
   "source": [
    "import midi"
   ]
  },
  {
   "cell_type": "code",
   "execution_count": 45,
   "metadata": {},
   "outputs": [],
   "source": [
    "def generate_midi(out_file):\n",
    "    pattern = midi.Pattern(resolution=100)\n",
    "    track = midi.Track()\n",
    "    pattern.append(track)\n",
    "\n",
    "    track.append(midi.SetTempoEvent(tick=0, bpm=60))\n",
    "\n",
    "    for octave in range(2, 7):\n",
    "        note_min = 36 + 12 * (octave-2)\n",
    "        note_max = note_min + 12\n",
    "        for note in range(note_min, note_max):\n",
    "            track.append(midi.NoteOnEvent(tick=0, velocity=40, pitch=note))\n",
    "            track.append(midi.NoteOnEvent(tick=150, velocity=0, pitch=note))\n",
    "\n",
    "            track.append(midi.NoteOnEvent(tick=50, velocity=60, pitch=note))\n",
    "            track.append(midi.NoteOnEvent(tick=150, velocity=0, pitch=note))\n",
    "\n",
    "            track.append(midi.NoteOnEvent(tick=50, velocity=80, pitch=note))\n",
    "            track.append(midi.NoteOnEvent(tick=150, velocity=0, pitch=note))\n",
    "\n",
    "            track.append(midi.NoteOnEvent(tick=50, velocity=100, pitch=note))\n",
    "            track.append(midi.NoteOnEvent(tick=150, velocity=0, pitch=note))\n",
    "            track.append(midi.NoteOnEvent(tick=50, velocity=0, pitch=(note+1)))\n",
    "\n",
    "    track.append(midi.EndOfTrackEvent(tick=1))\n",
    "\n",
    "    # Save the pattern to disk\n",
    "    midi.write_midifile(out_file, pattern)"
   ]
  },
  {
   "cell_type": "code",
   "execution_count": 47,
   "metadata": {},
   "outputs": [],
   "source": [
    "generate_midi(\"../data/ES8-SingleNotes/notes.midi\")"
   ]
  },
  {
   "cell_type": "code",
   "execution_count": 39,
   "metadata": {},
   "outputs": [],
   "source": [
    " midi_pattern = midi.read_midifile(\"../data/ES8-SingleNotes/octave6.mid\")"
   ]
  },
  {
   "cell_type": "code",
   "execution_count": 41,
   "metadata": {},
   "outputs": [
    {
     "name": "stdout",
     "output_type": "stream",
     "text": [
      "84 40\n",
      "84 60\n",
      "84 80\n",
      "84 100\n",
      "85 40\n",
      "85 60\n",
      "85 80\n",
      "85 100\n",
      "86 40\n",
      "86 60\n",
      "86 80\n",
      "86 100\n",
      "87 40\n",
      "87 60\n",
      "87 80\n",
      "87 100\n",
      "88 40\n",
      "88 60\n",
      "88 80\n",
      "88 100\n",
      "89 40\n",
      "89 60\n",
      "89 80\n",
      "89 100\n",
      "90 40\n",
      "90 60\n",
      "90 80\n",
      "90 100\n",
      "91 40\n",
      "91 60\n",
      "91 80\n",
      "91 100\n",
      "92 40\n",
      "92 60\n",
      "92 80\n",
      "92 100\n",
      "93 40\n",
      "93 60\n",
      "93 80\n",
      "93 100\n",
      "94 40\n",
      "94 60\n",
      "94 80\n",
      "94 100\n",
      "95 40\n",
      "95 60\n",
      "95 80\n",
      "95 100\n"
     ]
    }
   ],
   "source": [
    "NOTE_NAMES = ['C', 'C#', 'D', 'D#', 'E', 'F', 'F#', 'G', 'G#', 'A', 'A#', 'B']\n",
    "def es8_piano_note_encoder(note):\n",
    "    if type(note) == str:\n",
    "        name = note[:-1]\n",
    "        octave = int(note[-1])\n",
    "    else:\n",
    "        name = note[0]\n",
    "        octave = int(note[1])\n",
    "    \n",
    "    return 36 + 12 * (octave - 2) + NOTE_NAMES.index(name)\n",
    "\n",
    "def es8_piano_note_decoder(note):\n",
    "    name = NOTE_NAMES[(note - 36) % 12]\n",
    "    octave = 2 + (note - 36) // 12\n",
    "    return (name, octave)\n",
    "\n",
    "for event in midi_pattern[0]:\n",
    "    if type(event) != midi.NoteOnEvent or event.velocity == 0:\n",
    "        continue\n",
    "    \n",
    "    print(event.pitch, event.velocity)"
   ]
  },
  {
   "cell_type": "code",
   "execution_count": null,
   "metadata": {},
   "outputs": [],
   "source": []
  }
 ],
 "metadata": {
  "kernelspec": {
   "display_name": "Python 3",
   "language": "python",
   "name": "python3"
  },
  "language_info": {
   "codemirror_mode": {
    "name": "ipython",
    "version": 3
   },
   "file_extension": ".py",
   "mimetype": "text/x-python",
   "name": "python",
   "nbconvert_exporter": "python",
   "pygments_lexer": "ipython3",
   "version": "3.7.1"
  }
 },
 "nbformat": 4,
 "nbformat_minor": 2
}
