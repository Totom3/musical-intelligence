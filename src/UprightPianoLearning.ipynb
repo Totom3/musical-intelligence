{
 "cells": [
  {
   "cell_type": "code",
   "execution_count": 1,
   "metadata": {},
   "outputs": [],
   "source": [
    "%run utils.ipynb\n",
    "%run data_encoder.ipynb"
   ]
  },
  {
   "cell_type": "code",
   "execution_count": 2,
   "metadata": {},
   "outputs": [],
   "source": [
    "import math\n",
    "import numpy as np\n",
    "from sklearn.naive_bayes import GaussianNB"
   ]
  },
  {
   "cell_type": "code",
   "execution_count": 3,
   "metadata": {},
   "outputs": [
    {
     "name": "stdout",
     "output_type": "stream",
     "text": [
      "Extracting data from UprightPiano-FreePats...\n",
      "Extracted 821 + 282 data points from UprightPiano-FreePats!\n"
     ]
    }
   ],
   "source": [
    "upright_piano_dataset, encode_note, decode_note = encode_upright_piano_data()"
   ]
  },
  {
   "cell_type": "code",
   "execution_count": 4,
   "metadata": {},
   "outputs": [
    {
     "data": {
      "text/plain": [
       "GaussianNB(priors=None, var_smoothing=1e-09)"
      ]
     },
     "execution_count": 4,
     "metadata": {},
     "output_type": "execute_result"
    }
   ],
   "source": [
    "gnb = GaussianNB()\n",
    "gnb.fit(upright_piano_dataset.X_train, upright_piano_dataset.y_train)"
   ]
  },
  {
   "cell_type": "code",
   "execution_count": 5,
   "metadata": {},
   "outputs": [
    {
     "name": "stdout",
     "output_type": "stream",
     "text": [
      "Number of mislabeled test points out of a total 282 points : 1\n",
      "Number of mislabeled train points out of a total 821 points : 0\n",
      "\n",
      " Test Discrepancies:\n",
      " [217]: Predicted D#4 but expected D#5\n"
     ]
    }
   ],
   "source": [
    "y_pred_test = gnb.predict(upright_piano_dataset.X_test)\n",
    "test_discrepancies = (upright_piano_dataset.y_test != y_pred_test)\n",
    "\n",
    "y_pred_train = gnb.predict(upright_piano_dataset.X_train)\n",
    "train_discrepancies = (upright_piano_dataset.y_train != y_pred_train)\n",
    "\n",
    "print(\"Number of mislabeled test points out of a total {} points : {}\"\n",
    "       .format(len(upright_piano_dataset.X_test), test_discrepancies.sum()))\n",
    "print(\"Number of mislabeled train points out of a total {} points : {}\"\n",
    "       .format(len(upright_piano_dataset.X_train), train_discrepancies.sum()))\n",
    "\n",
    "print('\\n Test Discrepancies:')\n",
    "for idx, prediction in enumerate(y_pred_test):\n",
    "    if not test_discrepancies[idx]:\n",
    "        continue\n",
    "    \n",
    "    print(' [{}]: Predicted {} but expected {}'.format(idx, prediction, upright_piano_dataset.y_test[idx]))"
   ]
  },
  {
   "cell_type": "code",
   "execution_count": 6,
   "metadata": {},
   "outputs": [],
   "source": [
    "CheckBadDataPoint = False\n",
    "\n",
    "if CheckBadDataPoint:\n",
    "    import matplotlib.pyplot as plt\n",
    "\n",
    "    bad_data_point = upright_piano_dataset.test_data[217]\n",
    "    \n",
    "    frequencies = bad_data_point.frequencies()\n",
    "    amplitudes = bad_data_point.data\n",
    "\n",
    "    frequencies = [freq for idx, freq in enumerate(frequencies) if amplitudes[idx] > 0]\n",
    "    amplitudes = [ampl for ampl in amplitudes if ampl > 0]\n",
    "\n",
    "    frequencies = frequencies[:-2]\n",
    "    amplitudes = amplitudes[:-2]\n",
    "    print(frequencies)\n",
    "\n",
    "    plt.figure()\n",
    "    plt.plot(frequencies, amplitudes)\n",
    "    plt.show()\n",
    "\n",
    "    generate_frequencies(dict(zip(frequencies, amplitudes)), 3, 'bad_data_point.wav')"
   ]
  }
 ],
 "metadata": {
  "kernelspec": {
   "display_name": "Python 3",
   "language": "python",
   "name": "python3"
  },
  "language_info": {
   "codemirror_mode": {
    "name": "ipython",
    "version": 3
   },
   "file_extension": ".py",
   "mimetype": "text/x-python",
   "name": "python",
   "nbconvert_exporter": "python",
   "pygments_lexer": "ipython3",
   "version": "3.7.1"
  }
 },
 "nbformat": 4,
 "nbformat_minor": 2
}
