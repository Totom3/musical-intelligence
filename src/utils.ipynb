{
 "cells": [
  {
   "cell_type": "code",
   "execution_count": 1,
   "metadata": {},
   "outputs": [],
   "source": [
    "import math\n",
    "import wave\n",
    "import array\n",
    "import struct\n",
    "import winsound\n",
    "\n",
    "import numpy as np\n",
    "import matplotlib.pyplot as plt\n",
    "from scipy.fftpack import fft"
   ]
  },
  {
   "cell_type": "code",
   "execution_count": 2,
   "metadata": {},
   "outputs": [],
   "source": [
    "TWO_PI = 2.0 * math.pi\n",
    "base_path = '../data/kaggle-notes'\n",
    "\n",
    "sin2pi = lambda x : math.sin(TWO_PI * x)"
   ]
  },
  {
   "cell_type": "code",
   "execution_count": 3,
   "metadata": {},
   "outputs": [],
   "source": [
    "def play_wav_file(file):\n",
    "    winsound.PlaySound(file, winsound.SND_ALIAS)"
   ]
  },
  {
   "cell_type": "code",
   "execution_count": 4,
   "metadata": {},
   "outputs": [],
   "source": [
    "def get_samples(frequencies, samples_per_second, samples_count):\n",
    "    samples = [ 0 ] * samples_count\n",
    "    for time in range(samples_count):\n",
    "        sines = [amplitude * sin2pi(time * freq / samples_per_second) for freq, amplitude in frequencies.items()]\n",
    "        samples[time] = sum(sines)\n",
    "        \n",
    "    return samples\n",
    "\n",
    "# Frequency: in Hertz\n",
    "# frequencies: dictionary of frequencies to amplitudes, the latter being in [0, 1]\n",
    "# Duration: in seconds\n",
    "# output_file: the file path\n",
    "def generate_frequencies(frequencies, duration, output_file):\n",
    "    # Signed short integer (-32768 to 32767) data\n",
    "    data = array.array('h')\n",
    "    \n",
    "    # 2 bytes because of using signed short integers => bit depth = 16\n",
    "    data_size = 2\n",
    "    \n",
    "    number_of_channels = 1\n",
    "    samples_per_second = 44100\n",
    "    samples_count = samples_per_second * duration\n",
    "    \n",
    "    samples = get_samples(frequencies, samples_per_second, samples_count)\n",
    "    data = array.array('h', map(lambda x : min(32767, max(-32767, int(32767 * x))), samples))\n",
    "        \n",
    "    f = wave.open(output_file, 'w')\n",
    "    f.setparams((number_of_channels, data_size, samples_per_second, samples_count, \"NONE\", \"Uncompressed\"))\n",
    "    f.writeframes(data.tobytes())\n",
    "    f.close()\n",
    "\n",
    "# Shorthand for 1 frequency\n",
    "def generate_frequency(freq, amplitude, duration, output_file):\n",
    "    generate_frequencies({freq: amplitude}, duration, output_file)"
   ]
  },
  {
   "cell_type": "code",
   "execution_count": 10,
   "metadata": {},
   "outputs": [],
   "source": [
    "generate_frequencies({440: 200/32767}, 2, \"test2.wav\")"
   ]
  },
  {
   "cell_type": "code",
   "execution_count": 6,
   "metadata": {},
   "outputs": [],
   "source": [
    "def fourier_transform(samples, samples_per_second):\n",
    "    N = len(samples)\n",
    "    \n",
    "    amplitudes = 2.0 / N * np.abs(fft(samples)[0 : N//2])\n",
    "    frequencies = np.linspace(0.0, samples_per_second/(2), N//2)\n",
    "    return frequencies, amplitudes"
   ]
  },
  {
   "cell_type": "code",
   "execution_count": 7,
   "metadata": {},
   "outputs": [],
   "source": [
    "if False:\n",
    "    samples_count = 200\n",
    "    samples_per_second = 100\n",
    "    samples = get_samples({1: 1, 3: 3, 5: -2}, samples_per_second, samples_count)\n",
    "    frequencies, amplitudes = fourier_transform(samples, samples_per_second)\n",
    "\n",
    "    plt.plot(frequencies, amplitudes, color='blue')\n",
    "    plt.xlim(0, 6)\n",
    "    plt.grid()\n",
    "\n",
    "    plt.show()\n",
    "\n",
    "    print(\"Maximum frequency: \", frequencies[np.argmax(amplitudes)])"
   ]
  }
 ],
 "metadata": {
  "kernelspec": {
   "display_name": "Python 3",
   "language": "python",
   "name": "python3"
  },
  "language_info": {
   "codemirror_mode": {
    "name": "ipython",
    "version": 3
   },
   "file_extension": ".py",
   "mimetype": "text/x-python",
   "name": "python",
   "nbconvert_exporter": "python",
   "pygments_lexer": "ipython3",
   "version": "3.7.1"
  }
 },
 "nbformat": 4,
 "nbformat_minor": 2
}
