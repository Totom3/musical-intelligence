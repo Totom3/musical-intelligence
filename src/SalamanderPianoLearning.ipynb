{
 "cells": [
  {
   "cell_type": "code",
   "execution_count": 1,
   "metadata": {},
   "outputs": [],
   "source": [
    "%run utils.ipynb\n",
    "%run data_encoder.ipynb"
   ]
  },
  {
   "cell_type": "code",
   "execution_count": 2,
   "metadata": {},
   "outputs": [],
   "source": [
    "import math\n",
    "import numpy as np\n",
    "from sklearn.naive_bayes import GaussianNB"
   ]
  },
  {
   "cell_type": "code",
   "execution_count": 3,
   "metadata": {},
   "outputs": [
    {
     "name": "stdout",
     "output_type": "stream",
     "text": [
      "Extracting data from SalamanderGrandPiano-FreePats...\n",
      "Extracted 4147 + 957 data points from SalamanderGrandPiano-FreePats!\n"
     ]
    }
   ],
   "source": [
    "salamander_piano_dataset, encode_note, decode_note = encode_salamander_piano_data()"
   ]
  },
  {
   "cell_type": "code",
   "execution_count": 4,
   "metadata": {},
   "outputs": [
    {
     "data": {
      "text/plain": [
       "GaussianNB(priors=None, var_smoothing=1e-09)"
      ]
     },
     "execution_count": 4,
     "metadata": {},
     "output_type": "execute_result"
    }
   ],
   "source": [
    "gnb = GaussianNB()\n",
    "gnb.fit(salamander_piano_dataset.X_train, salamander_piano_dataset.y_train)"
   ]
  },
  {
   "cell_type": "code",
   "execution_count": 5,
   "metadata": {
    "scrolled": true
   },
   "outputs": [
    {
     "name": "stdout",
     "output_type": "stream",
     "text": [
      "Number of mislabeled test points out of a total 957 points : 1\n",
      "Number of mislabeled train points out of a total 4147 points : 17\n",
      "\n",
      " Test Discrepancies:\n",
      " [197]: Predicted A4 but expected A5\n"
     ]
    }
   ],
   "source": [
    "y_pred_test = gnb.predict(salamander_piano_dataset.X_test)\n",
    "test_discrepancies = (salamander_piano_dataset.y_test != y_pred_test)\n",
    "\n",
    "y_pred_train = gnb.predict(salamander_piano_dataset.X_train)\n",
    "train_discrepancies = (salamander_piano_dataset.y_train != y_pred_train)\n",
    "\n",
    "print(\"Number of mislabeled test points out of a total {} points : {}\"\n",
    "       .format(len(salamander_piano_dataset.X_test), test_discrepancies.sum()))\n",
    "print(\"Number of mislabeled train points out of a total {} points : {}\"\n",
    "       .format(len(salamander_piano_dataset.X_train), train_discrepancies.sum()))\n",
    "\n",
    "print('\\n Test Discrepancies:')\n",
    "for idx, prediction in enumerate(y_pred_test):\n",
    "    if not test_discrepancies[idx]:\n",
    "        continue\n",
    "    \n",
    "    print(' [{}]: Predicted {} but expected {}'.format(idx, prediction, salamander_piano_dataset.y_test[idx]))"
   ]
  },
  {
   "cell_type": "code",
   "execution_count": 6,
   "metadata": {},
   "outputs": [
    {
     "name": "stdout",
     "output_type": "stream",
     "text": [
      "{0: 0.07471901535149714, 80: 0.05614399055073106, 860: 0.05859934214983219, 870: 0.10300231808899099, 880: 1.0, 890: 0.08540516077911013}\n"
     ]
    },
    {
     "data": {
      "image/png": "[encoded data removed]",
      "text/plain": [
       "<Figure size 432x288 with 1 Axes>"
      ]
     },
     "metadata": {
      "needs_background": "light"
     },
     "output_type": "display_data"
    }
   ],
   "source": [
    "CheckBadDataPoint = True\n",
    "\n",
    "if CheckBadDataPoint:\n",
    "    import matplotlib.pyplot as plt\n",
    "\n",
    "    bad_data_point = salamander_piano_dataset.test_data[197]\n",
    "    \n",
    "    frequencies = bad_data_point.frequencies()\n",
    "    amplitudes = bad_data_point.data\n",
    "\n",
    "    frequencies = [freq for idx, freq in enumerate(frequencies) if amplitudes[idx] > 0]\n",
    "    amplitudes = [ampl for ampl in amplitudes if ampl > 0]\n",
    "    \n",
    "    print(dict(zip(frequencies, amplitudes)))\n",
    "\n",
    "    plt.figure()\n",
    "    plt.plot(frequencies, amplitudes)\n",
    "    plt.show()\n",
    "\n",
    "    generate_frequencies(dict(zip(frequencies, amplitudes)), 3, 'bad_data_point.wav')"
   ]
  }
 ],
 "metadata": {
  "kernelspec": {
   "display_name": "Python 3",
   "language": "python",
   "name": "python3"
  },
  "language_info": {
   "codemirror_mode": {
    "name": "ipython",
    "version": 3
   },
   "file_extension": ".py",
   "mimetype": "text/x-python",
   "name": "python",
   "nbconvert_exporter": "python",
   "pygments_lexer": "ipython3",
   "version": "3.7.1"
  }
 },
 "nbformat": 4,
 "nbformat_minor": 2
}
