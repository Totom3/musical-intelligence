{
 "cells": [
  {
   "cell_type": "code",
   "execution_count": 1,
   "metadata": {},
   "outputs": [],
   "source": [
    "%run utils.ipynb\n",
    "%run data_encoder.ipynb"
   ]
  },
  {
   "cell_type": "code",
   "execution_count": 2,
   "metadata": {},
   "outputs": [],
   "source": [
    "import math\n",
    "import numpy as np\n",
    "from sklearn.naive_bayes import GaussianNB"
   ]
  },
  {
   "cell_type": "code",
   "execution_count": 3,
   "metadata": {},
   "outputs": [
    {
     "name": "stdout",
     "output_type": "stream",
     "text": [
      "Extracting data from SpanishClassicalGuitar-FreePats...\n",
      "Extracted 384 + 142 data points from SpanishClassicalGuitar-FreePats!\n"
     ]
    },
    {
     "name": "stderr",
     "output_type": "stream",
     "text": [
      "C:\\Users\\Totom3\\Anaconda3\\lib\\site-packages\\scipy\\io\\wavfile.py:273: WavFileWarning: Chunk (non-data) not understood, skipping it.\n",
      "  WavFileWarning)\n"
     ]
    }
   ],
   "source": [
    "classical_guitar_dataset, encode_note, decode_note = encode_classical_guitar_data()"
   ]
  },
  {
   "cell_type": "code",
   "execution_count": 4,
   "metadata": {},
   "outputs": [
    {
     "data": {
      "text/plain": [
       "GaussianNB(priors=None, var_smoothing=1e-09)"
      ]
     },
     "execution_count": 4,
     "metadata": {},
     "output_type": "execute_result"
    }
   ],
   "source": [
    "gnb = GaussianNB()\n",
    "gnb.fit(classical_guitar_dataset.X_train, classical_guitar_dataset.y_train)"
   ]
  },
  {
   "cell_type": "code",
   "execution_count": 5,
   "metadata": {
    "scrolled": true
   },
   "outputs": [
    {
     "name": "stdout",
     "output_type": "stream",
     "text": [
      "Number of mislabeled test points out of a total 142 points : 3\n",
      "Number of mislabeled train points out of a total 384 points : 0\n",
      "\n",
      " Test Discrepancies:\n",
      " [21]: Predicted A3 but expected A4\n",
      " [33]: Predicted B2 but expected B3\n",
      " [98]: Predicted G3 but expected F#3\n"
     ]
    }
   ],
   "source": [
    "y_pred_test = gnb.predict(classical_guitar_dataset.X_test)\n",
    "test_discrepancies = (classical_guitar_dataset.y_test != y_pred_test)\n",
    "\n",
    "y_pred_train = gnb.predict(classical_guitar_dataset.X_train)\n",
    "train_discrepancies = (classical_guitar_dataset.y_train != y_pred_train)\n",
    "\n",
    "print(\"Number of mislabeled test points out of a total {} points : {}\"\n",
    "       .format(len(classical_guitar_dataset.X_test), test_discrepancies.sum()))\n",
    "print(\"Number of mislabeled train points out of a total {} points : {}\"\n",
    "       .format(len(classical_guitar_dataset.X_train), train_discrepancies.sum()))\n",
    "\n",
    "print('\\n Test Discrepancies:')\n",
    "for idx, prediction in enumerate(y_pred_test):\n",
    "    if not test_discrepancies[idx]:\n",
    "        continue\n",
    "    \n",
    "    print(' [{}]: Predicted {} but expected {}'.format(idx, prediction, classical_guitar_dataset.y_test[idx]))"
   ]
  },
  {
   "cell_type": "code",
   "execution_count": 6,
   "metadata": {},
   "outputs": [
    {
     "name": "stdout",
     "output_type": "stream",
     "text": [
      "{100: 0.08068663787279423, 170: 0.1288170749810448, 180: 1.0, 190: 0.26419056840653304, 200: 0.18289800638359316, 210: 0.16806818365262255, 220: 0.11469308185255292, 370: 0.3493559499900645}\n"
     ]
    },
    {
     "data": {
      "image/png": "[encoded data removed]",
      "text/plain": [
       "<Figure size 432x288 with 1 Axes>"
      ]
     },
     "metadata": {
      "needs_background": "light"
     },
     "output_type": "display_data"
    }
   ],
   "source": [
    "CheckBadDataPoint = True\n",
    "\n",
    "if CheckBadDataPoint:\n",
    "    import matplotlib.pyplot as plt\n",
    "\n",
    "    bad_data_point = classical_guitar_dataset.test_data[98]\n",
    "    \n",
    "    frequencies = bad_data_point.frequencies()\n",
    "    amplitudes = bad_data_point.data\n",
    "\n",
    "    frequencies = [freq for idx, freq in enumerate(frequencies) if amplitudes[idx] > 0]\n",
    "    amplitudes = [ampl for ampl in amplitudes if ampl > 0]\n",
    "    \n",
    "    print(dict(zip(frequencies, amplitudes)))\n",
    "\n",
    "    plt.figure()\n",
    "    plt.plot(frequencies, amplitudes)\n",
    "    plt.show()\n",
    "\n",
    "    generate_frequencies(dict(zip(frequencies, amplitudes)), 3, 'bad_data_point.wav')"
   ]
  },
  {
   "cell_type": "code",
   "execution_count": null,
   "metadata": {},
   "outputs": [],
   "source": []
  }
 ],
 "metadata": {
  "kernelspec": {
   "display_name": "Python 3",
   "language": "python",
   "name": "python3"
  },
  "language_info": {
   "codemirror_mode": {
    "name": "ipython",
    "version": 3
   },
   "file_extension": ".py",
   "mimetype": "text/x-python",
   "name": "python",
   "nbconvert_exporter": "python",
   "pygments_lexer": "ipython3",
   "version": "3.7.1"
  }
 },
 "nbformat": 4,
 "nbformat_minor": 2
}
